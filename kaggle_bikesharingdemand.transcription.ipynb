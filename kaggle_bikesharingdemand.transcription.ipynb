#그래프에서 격자로 숫자 범위가 눈에 잘 띄도록 'ggplot' 스타일을 사용
plt.style.use('ggplot')

#그래프에서 마이너스 폰트 깨지는 문제 대한 대처
mpl.rcParams['axes.unicode_minus'] = False

#그래프에서 한글폰트 깨지는 문제 대처
#한글 폰트 설치
!sudo apt-get install -y fonts-nanum
!sudo fc-cache -fv
!rm ~/.cache/matplotlib -rf
#맷플롯라이브러리에 폰트 설정
plt.rc('font', family='NanumBarunGothic') 

from IPython.display import set_matplotlib_formats
# 폰트가 선명하게 보이기 위해
set_matplotlib_formats('retina')

#------------------------------------------------------
#null인 데이터 값을 시각화 해주는 라이브러리
import missingno as msno
msno.matrix(train, figsize=(12,5))

#sns.heatmap을 그릴때 한쪽만 보여주기위함
mask = np.array(corrMatt)
mask[np.tril_indices_from(mask)] = False
#mask=mask를 하여 한쪽만 보여주고, annot=True로 하여 숫자를 보여주며, square=True로 하여 정사각형으로 만들어줌
sns.heatmap(data=corrMatt, annot=True, square=True, vmax=.8,mask=mask)

#regplot은 scatterplot과 lineplot을 함께 볼 수 있다.
sns.regplot(x='temp',y='count',data=train, ax=axes[0])
sns.regplot(x='windspeed',y='count',data=train, ax=axes[1], color='blue')
sns.regplot(x='humidity',y='count',data=train, ax=axes[2],color='green')

plt.axvline(11.5,0) # 그래프에 수직선 추가
plt.xticks(rotation=30, ha='right') #x값들을 오른쪽으로 30도 돌려줌 => 잘 보이게 하기 위함

#시간표시
%time 
